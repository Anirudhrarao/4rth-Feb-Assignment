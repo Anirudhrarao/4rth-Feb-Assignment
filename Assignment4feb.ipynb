{
 "cells": [
  {
   "cell_type": "markdown",
   "id": "b6e2926d",
   "metadata": {},
   "source": [
    "# 4-Feb Assignment"
   ]
  },
  {
   "cell_type": "markdown",
   "id": "ad6e536d",
   "metadata": {},
   "source": [
    "### Solution (1)"
   ]
  },
  {
   "cell_type": "code",
   "execution_count": 15,
   "id": "a19c803c",
   "metadata": {},
   "outputs": [],
   "source": [
    "ls = [('Sachin Tendulkar', 34357), ('Ricky Ponting', 27483), ('Jack Kallis', 25534), ('Virat Kohli', 24936)]"
   ]
  },
  {
   "cell_type": "code",
   "execution_count": 20,
   "id": "e83eefbd",
   "metadata": {},
   "outputs": [],
   "source": [
    "ls.sort(key=lambda x : x[1])"
   ]
  },
  {
   "cell_type": "code",
   "execution_count": 21,
   "id": "3d1d0b3b",
   "metadata": {},
   "outputs": [
    {
     "data": {
      "text/plain": [
       "[('Virat Kohli', 24936),\n",
       " ('Jack Kallis', 25534),\n",
       " ('Ricky Ponting', 27483),\n",
       " ('Sachin Tendulkar', 34357)]"
      ]
     },
     "execution_count": 21,
     "metadata": {},
     "output_type": "execute_result"
    }
   ],
   "source": [
    "ls"
   ]
  },
  {
   "cell_type": "markdown",
   "id": "ae8ab256",
   "metadata": {},
   "source": [
    "### Solution (2)"
   ]
  },
  {
   "cell_type": "code",
   "execution_count": 22,
   "id": "c4f2e9f6",
   "metadata": {},
   "outputs": [],
   "source": [
    "l = [1, 2, 3, 4, 5, 6, 7, 8, 9, 10]"
   ]
  },
  {
   "cell_type": "code",
   "execution_count": 24,
   "id": "76021a61",
   "metadata": {},
   "outputs": [
    {
     "data": {
      "text/plain": [
       "[1, 4, 9, 16, 25, 36, 49, 64, 81, 100]"
      ]
     },
     "execution_count": 24,
     "metadata": {},
     "output_type": "execute_result"
    }
   ],
   "source": [
    "list(map(lambda x:x**2,l))"
   ]
  },
  {
   "cell_type": "markdown",
   "id": "d38c1291",
   "metadata": {},
   "source": [
    "### Solution (3)"
   ]
  },
  {
   "cell_type": "code",
   "execution_count": 25,
   "id": "4d574b66",
   "metadata": {},
   "outputs": [],
   "source": [
    "l2 = [1, 2, 3, 4, 5, 6, 7, 8, 9, 10]"
   ]
  },
  {
   "cell_type": "code",
   "execution_count": 31,
   "id": "59d4f726",
   "metadata": {},
   "outputs": [
    {
     "data": {
      "text/plain": [
       "('1', '2', '3', '4', '5', '6', '7', '8', '9', '10')"
      ]
     },
     "execution_count": 31,
     "metadata": {},
     "output_type": "execute_result"
    }
   ],
   "source": [
    "tuple(map(lambda x : str(x),l2))"
   ]
  },
  {
   "cell_type": "markdown",
   "id": "4ae314c2",
   "metadata": {},
   "source": [
    "### Solution (4)"
   ]
  },
  {
   "cell_type": "code",
   "execution_count": 34,
   "id": "eaa9ec4c",
   "metadata": {},
   "outputs": [],
   "source": [
    "from functools import reduce"
   ]
  },
  {
   "cell_type": "code",
   "execution_count": 39,
   "id": "4fc9b4ec",
   "metadata": {},
   "outputs": [],
   "source": [
    "l2 = [1,2,3,4,5,6,7,8,9,10,11,12,13,14,15,16,17,18,19,20,21,22,23,24,25]"
   ]
  },
  {
   "cell_type": "code",
   "execution_count": 42,
   "id": "ac3bb333",
   "metadata": {},
   "outputs": [
    {
     "data": {
      "text/plain": [
       "15511210043330985984000000"
      ]
     },
     "execution_count": 42,
     "metadata": {},
     "output_type": "execute_result"
    }
   ],
   "source": [
    "reduce(lambda x,y:x*y,l2)"
   ]
  },
  {
   "cell_type": "markdown",
   "id": "4e47532d",
   "metadata": {},
   "source": [
    "### Solution (5)"
   ]
  },
  {
   "cell_type": "code",
   "execution_count": 43,
   "id": "40311cae",
   "metadata": {},
   "outputs": [],
   "source": [
    "l3 =[2, 3, 6, 9, 27, 60, 90, 120, 55, 46]"
   ]
  },
  {
   "cell_type": "code",
   "execution_count": 45,
   "id": "1f261cd5",
   "metadata": {},
   "outputs": [
    {
     "data": {
      "text/plain": [
       "[6, 60, 90, 120]"
      ]
     },
     "execution_count": 45,
     "metadata": {},
     "output_type": "execute_result"
    }
   ],
   "source": [
    "list(filter(lambda x:(x%2==0 and x%3==0),l3))"
   ]
  },
  {
   "cell_type": "markdown",
   "id": "ca2bf0c2",
   "metadata": {},
   "source": [
    "### Solution (6)"
   ]
  },
  {
   "cell_type": "code",
   "execution_count": 46,
   "id": "2fd11dea",
   "metadata": {},
   "outputs": [],
   "source": [
    "l4 = ['python', 'php', 'aba', 'radar', 'level']"
   ]
  },
  {
   "cell_type": "code",
   "execution_count": 47,
   "id": "08be4301",
   "metadata": {},
   "outputs": [
    {
     "data": {
      "text/plain": [
       "['php', 'aba', 'radar', 'level']"
      ]
     },
     "execution_count": 47,
     "metadata": {},
     "output_type": "execute_result"
    }
   ],
   "source": [
    "list(filter(lambda x:x[::-1]==x,l4))"
   ]
  },
  {
   "cell_type": "code",
   "execution_count": null,
   "id": "c06723cf",
   "metadata": {},
   "outputs": [],
   "source": []
  }
 ],
 "metadata": {
  "kernelspec": {
   "display_name": "Python 3 (ipykernel)",
   "language": "python",
   "name": "python3"
  },
  "language_info": {
   "codemirror_mode": {
    "name": "ipython",
    "version": 3
   },
   "file_extension": ".py",
   "mimetype": "text/x-python",
   "name": "python",
   "nbconvert_exporter": "python",
   "pygments_lexer": "ipython3",
   "version": "3.10.4"
  }
 },
 "nbformat": 4,
 "nbformat_minor": 5
}
